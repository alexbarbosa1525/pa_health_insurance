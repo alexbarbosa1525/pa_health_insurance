{
 "cells": [
  {
   "cell_type": "markdown",
   "id": "4158398e",
   "metadata": {},
   "source": [
    "# Imports"
   ]
  },
  {
   "cell_type": "code",
   "execution_count": 2,
   "id": "5aba8ee3",
   "metadata": {
    "ExecuteTime": {
     "end_time": "2022-07-19T01:58:02.154425Z",
     "start_time": "2022-07-19T01:58:02.137413Z"
    }
   },
   "outputs": [],
   "source": [
    "import pandas as  pd\n",
    "import numpy as np\n",
    "import inflection\n",
    "import math\n",
    "import seaborn as sb\n",
    "import random\n",
    "import pickle\n",
    "import warnings\n",
    "import inflection\n",
    "from datetime import datetime\n",
    "\n",
    "from matplotlib import pyplot as plt\n",
    "from IPython.core.display import HTML\n",
    "from IPython.display import Image\n",
    "from sklearn.preprocessing import RobustScaler, MinMaxScaler, LabelEncoder"
   ]
  },
  {
   "cell_type": "markdown",
   "id": "13edf630",
   "metadata": {},
   "source": [
    "## Helper Functions"
   ]
  },
  {
   "cell_type": "code",
   "execution_count": 3,
   "id": "42b6be00",
   "metadata": {
    "ExecuteTime": {
     "end_time": "2022-07-19T01:58:48.147346Z",
     "start_time": "2022-07-19T01:58:48.125357Z"
    }
   },
   "outputs": [],
   "source": [
    "def jupyter_settings():\n",
    "    %matplotlib inline\n",
    "    %pylab inline\n",
    "    \n",
    "    plt.style.use( 'bmh' )\n",
    "    plt.rcParams['figure.figsize'] = [25, 12]\n",
    "    plt.rcParams['font.size'] = 24\n",
    "    \n",
    "    display( HTML( '<style>.container { width:100% !important; }</style>') )\n",
    "    pd.options.display.max_columns = None\n",
    "    pd.options.display.max_rows = None\n",
    "    pd.set_option( 'display.expand_frame_repr', False )\n",
    "    \n",
    "    sb.set()\n",
    "\n",
    "# Remove a exibição de notação científica\n",
    "pd.set_option('float_format', '{:.2f}'.format)\n",
    "\n",
    "# Arredonda duas casas decimais\n",
    "pd.set_option('display.precision', 2)"
   ]
  },
  {
   "cell_type": "code",
   "execution_count": 4,
   "id": "0e25b810",
   "metadata": {
    "ExecuteTime": {
     "end_time": "2022-07-19T01:58:57.605749Z",
     "start_time": "2022-07-19T01:58:57.507385Z"
    }
   },
   "outputs": [
    {
     "name": "stdout",
     "output_type": "stream",
     "text": [
      "Populating the interactive namespace from numpy and matplotlib\n"
     ]
    },
    {
     "name": "stderr",
     "output_type": "stream",
     "text": [
      "C:\\Users\\alexa\\anaconda3\\lib\\site-packages\\IPython\\core\\magics\\pylab.py:159: UserWarning: pylab import has clobbered these variables: ['datetime', 'random']\n",
      "`%matplotlib` prevents importing * from pylab and numpy\n",
      "  warn(\"pylab import has clobbered these variables: %s\"  % clobbered +\n"
     ]
    },
    {
     "data": {
      "text/html": [
       "<style>.container { width:100% !important; }</style>"
      ],
      "text/plain": [
       "<IPython.core.display.HTML object>"
      ]
     },
     "metadata": {},
     "output_type": "display_data"
    }
   ],
   "source": [
    "jupyter_settings()"
   ]
  },
  {
   "cell_type": "markdown",
   "id": "e8a0c0c5",
   "metadata": {},
   "source": [
    "## loading Data"
   ]
  },
  {
   "cell_type": "code",
   "execution_count": 7,
   "id": "c96dd07a",
   "metadata": {
    "ExecuteTime": {
     "end_time": "2022-07-19T02:02:25.405848Z",
     "start_time": "2022-07-19T02:02:24.803142Z"
    }
   },
   "outputs": [],
   "source": [
    "# Import Dataset\n",
    "data = pd.read_csv(r'C:\\Users\\alexa\\Documents\\repos\\pa004_health_insurance_cross_sell\\raw_data.csv')\n",
    "data_raw = data.copy()"
   ]
  },
  {
   "cell_type": "markdown",
   "id": "170c3989",
   "metadata": {},
   "source": [
    "# Description of the Data"
   ]
  },
  {
   "cell_type": "code",
   "execution_count": 8,
   "id": "83c424e8",
   "metadata": {
    "ExecuteTime": {
     "end_time": "2022-07-19T02:02:52.905175Z",
     "start_time": "2022-07-19T02:02:52.873196Z"
    }
   },
   "outputs": [
    {
     "data": {
      "text/html": [
       "<div>\n",
       "<style scoped>\n",
       "    .dataframe tbody tr th:only-of-type {\n",
       "        vertical-align: middle;\n",
       "    }\n",
       "\n",
       "    .dataframe tbody tr th {\n",
       "        vertical-align: top;\n",
       "    }\n",
       "\n",
       "    .dataframe thead th {\n",
       "        text-align: right;\n",
       "    }\n",
       "</style>\n",
       "<table border=\"1\" class=\"dataframe\">\n",
       "  <thead>\n",
       "    <tr style=\"text-align: right;\">\n",
       "      <th></th>\n",
       "      <th>Unnamed: 0</th>\n",
       "      <th>gender</th>\n",
       "      <th>age</th>\n",
       "      <th>region_code</th>\n",
       "      <th>policy_sales_channel</th>\n",
       "      <th>driving_license</th>\n",
       "      <th>vehicle_age</th>\n",
       "      <th>vehicle_damage</th>\n",
       "      <th>previously_insured</th>\n",
       "      <th>annual_premium</th>\n",
       "      <th>vintage</th>\n",
       "      <th>response</th>\n",
       "    </tr>\n",
       "  </thead>\n",
       "  <tbody>\n",
       "    <tr>\n",
       "      <th>0</th>\n",
       "      <td>0</td>\n",
       "      <td>Male</td>\n",
       "      <td>23</td>\n",
       "      <td>11.00</td>\n",
       "      <td>152.00</td>\n",
       "      <td>1</td>\n",
       "      <td>&lt; 1 Year</td>\n",
       "      <td>Yes</td>\n",
       "      <td>0</td>\n",
       "      <td>23367.00</td>\n",
       "      <td>249</td>\n",
       "      <td>0</td>\n",
       "    </tr>\n",
       "    <tr>\n",
       "      <th>1</th>\n",
       "      <td>1</td>\n",
       "      <td>Female</td>\n",
       "      <td>41</td>\n",
       "      <td>15.00</td>\n",
       "      <td>14.00</td>\n",
       "      <td>1</td>\n",
       "      <td>1-2 Year</td>\n",
       "      <td>No</td>\n",
       "      <td>1</td>\n",
       "      <td>31409.00</td>\n",
       "      <td>221</td>\n",
       "      <td>0</td>\n",
       "    </tr>\n",
       "    <tr>\n",
       "      <th>2</th>\n",
       "      <td>2</td>\n",
       "      <td>Female</td>\n",
       "      <td>25</td>\n",
       "      <td>35.00</td>\n",
       "      <td>152.00</td>\n",
       "      <td>1</td>\n",
       "      <td>&lt; 1 Year</td>\n",
       "      <td>No</td>\n",
       "      <td>1</td>\n",
       "      <td>46622.00</td>\n",
       "      <td>299</td>\n",
       "      <td>0</td>\n",
       "    </tr>\n",
       "    <tr>\n",
       "      <th>3</th>\n",
       "      <td>3</td>\n",
       "      <td>Female</td>\n",
       "      <td>26</td>\n",
       "      <td>8.00</td>\n",
       "      <td>160.00</td>\n",
       "      <td>1</td>\n",
       "      <td>&lt; 1 Year</td>\n",
       "      <td>No</td>\n",
       "      <td>0</td>\n",
       "      <td>2630.00</td>\n",
       "      <td>136</td>\n",
       "      <td>0</td>\n",
       "    </tr>\n",
       "    <tr>\n",
       "      <th>4</th>\n",
       "      <td>4</td>\n",
       "      <td>Male</td>\n",
       "      <td>45</td>\n",
       "      <td>8.00</td>\n",
       "      <td>124.00</td>\n",
       "      <td>1</td>\n",
       "      <td>1-2 Year</td>\n",
       "      <td>Yes</td>\n",
       "      <td>0</td>\n",
       "      <td>42297.00</td>\n",
       "      <td>264</td>\n",
       "      <td>0</td>\n",
       "    </tr>\n",
       "  </tbody>\n",
       "</table>\n",
       "</div>"
      ],
      "text/plain": [
       "   Unnamed: 0  gender  age  region_code  policy_sales_channel  driving_license vehicle_age vehicle_damage  previously_insured  annual_premium  vintage  response\n",
       "0           0    Male   23        11.00                152.00                1    < 1 Year            Yes                   0        23367.00      249         0\n",
       "1           1  Female   41        15.00                 14.00                1    1-2 Year             No                   1        31409.00      221         0\n",
       "2           2  Female   25        35.00                152.00                1    < 1 Year             No                   1        46622.00      299         0\n",
       "3           3  Female   26         8.00                160.00                1    < 1 Year             No                   0         2630.00      136         0\n",
       "4           4    Male   45         8.00                124.00                1    1-2 Year            Yes                   0        42297.00      264         0"
      ]
     },
     "execution_count": 8,
     "metadata": {},
     "output_type": "execute_result"
    }
   ],
   "source": [
    "data.head(5)"
   ]
  },
  {
   "cell_type": "markdown",
   "id": "7b5ae178",
   "metadata": {},
   "source": [
    "## Rename Columns"
   ]
  },
  {
   "cell_type": "code",
   "execution_count": 10,
   "id": "5f27323d",
   "metadata": {
    "ExecuteTime": {
     "end_time": "2022-07-19T02:06:21.936852Z",
     "start_time": "2022-07-19T02:06:21.930858Z"
    }
   },
   "outputs": [],
   "source": [
    "data.rename ( columns = {'Unnamed: 0' : 'id' }, inplace = True)"
   ]
  },
  {
   "cell_type": "code",
   "execution_count": 11,
   "id": "254ce5b6",
   "metadata": {
    "ExecuteTime": {
     "end_time": "2022-07-19T02:06:23.185867Z",
     "start_time": "2022-07-19T02:06:23.178870Z"
    }
   },
   "outputs": [
    {
     "data": {
      "text/plain": [
       "Index(['id', 'gender', 'age', 'region_code', 'policy_sales_channel',\n",
       "       'driving_license', 'vehicle_age', 'vehicle_damage',\n",
       "       'previously_insured', 'annual_premium', 'vintage', 'response'],\n",
       "      dtype='object')"
      ]
     },
     "execution_count": 11,
     "metadata": {},
     "output_type": "execute_result"
    }
   ],
   "source": [
    "data.columns"
   ]
  },
  {
   "cell_type": "markdown",
   "id": "eb927c84",
   "metadata": {},
   "source": [
    "## Data Dimensions"
   ]
  },
  {
   "cell_type": "code",
   "execution_count": 12,
   "id": "2b5341f3",
   "metadata": {
    "ExecuteTime": {
     "end_time": "2022-07-19T02:07:07.255130Z",
     "start_time": "2022-07-19T02:07:07.243136Z"
    }
   },
   "outputs": [
    {
     "name": "stdout",
     "output_type": "stream",
     "text": [
      "Number of Rows: 381109\n",
      "Number of Cols: 12\n"
     ]
    }
   ],
   "source": [
    "print ('Number of Rows: {}' .format ( data.shape[0]))\n",
    "print ('Number of Cols: {}' .format ( data.shape[1]))"
   ]
  },
  {
   "cell_type": "markdown",
   "id": "e743d662",
   "metadata": {},
   "source": [
    "## Data Dimensions"
   ]
  },
  {
   "cell_type": "code",
   "execution_count": 13,
   "id": "44e56db0",
   "metadata": {
    "ExecuteTime": {
     "end_time": "2022-07-19T02:07:37.631813Z",
     "start_time": "2022-07-19T02:07:37.616802Z"
    }
   },
   "outputs": [
    {
     "data": {
      "text/plain": [
       "id                        int64\n",
       "gender                   object\n",
       "age                       int64\n",
       "region_code             float64\n",
       "policy_sales_channel    float64\n",
       "driving_license           int64\n",
       "vehicle_age              object\n",
       "vehicle_damage           object\n",
       "previously_insured        int64\n",
       "annual_premium          float64\n",
       "vintage                   int64\n",
       "response                  int64\n",
       "dtype: object"
      ]
     },
     "execution_count": 13,
     "metadata": {},
     "output_type": "execute_result"
    }
   ],
   "source": [
    "data.dtypes"
   ]
  },
  {
   "cell_type": "markdown",
   "id": "555329fc",
   "metadata": {},
   "source": [
    "## Check NA"
   ]
  },
  {
   "cell_type": "code",
   "execution_count": 14,
   "id": "c7f4d11e",
   "metadata": {
    "ExecuteTime": {
     "end_time": "2022-07-19T02:08:49.343614Z",
     "start_time": "2022-07-19T02:08:49.245654Z"
    }
   },
   "outputs": [
    {
     "data": {
      "text/plain": [
       "id                      0\n",
       "gender                  0\n",
       "age                     0\n",
       "region_code             0\n",
       "policy_sales_channel    0\n",
       "driving_license         0\n",
       "vehicle_age             0\n",
       "vehicle_damage          0\n",
       "previously_insured      0\n",
       "annual_premium          0\n",
       "vintage                 0\n",
       "response                0\n",
       "dtype: int64"
      ]
     },
     "execution_count": 14,
     "metadata": {},
     "output_type": "execute_result"
    }
   ],
   "source": [
    "data.isna().sum()"
   ]
  },
  {
   "cell_type": "markdown",
   "id": "f7540af1",
   "metadata": {},
   "source": [
    "## Descriptive Statistics"
   ]
  },
  {
   "cell_type": "code",
   "execution_count": 15,
   "id": "55531c9f",
   "metadata": {
    "ExecuteTime": {
     "end_time": "2022-07-19T02:10:14.349592Z",
     "start_time": "2022-07-19T02:10:14.345594Z"
    }
   },
   "outputs": [],
   "source": [
    "df1 = data"
   ]
  },
  {
   "cell_type": "code",
   "execution_count": 16,
   "id": "e00dc1c6",
   "metadata": {
    "ExecuteTime": {
     "end_time": "2022-07-19T02:10:16.484616Z",
     "start_time": "2022-07-19T02:10:16.444616Z"
    }
   },
   "outputs": [],
   "source": [
    "num_attributes = df1.select_dtypes( include=['int64', 'float64'] )\n",
    "cat_attributes = df1.select_dtypes( exclude=['int64', 'float64', 'datetime64[ns]'] )"
   ]
  },
  {
   "cell_type": "markdown",
   "id": "0b92485d",
   "metadata": {},
   "source": [
    "## Numerical Atributes"
   ]
  },
  {
   "cell_type": "code",
   "execution_count": 17,
   "id": "eb22db4b",
   "metadata": {
    "ExecuteTime": {
     "end_time": "2022-07-19T02:10:42.461670Z",
     "start_time": "2022-07-19T02:10:41.476531Z"
    }
   },
   "outputs": [
    {
     "data": {
      "text/html": [
       "<div>\n",
       "<style scoped>\n",
       "    .dataframe tbody tr th:only-of-type {\n",
       "        vertical-align: middle;\n",
       "    }\n",
       "\n",
       "    .dataframe tbody tr th {\n",
       "        vertical-align: top;\n",
       "    }\n",
       "\n",
       "    .dataframe thead th {\n",
       "        text-align: right;\n",
       "    }\n",
       "</style>\n",
       "<table border=\"1\" class=\"dataframe\">\n",
       "  <thead>\n",
       "    <tr style=\"text-align: right;\">\n",
       "      <th></th>\n",
       "      <th>attributes</th>\n",
       "      <th>min</th>\n",
       "      <th>max</th>\n",
       "      <th>range</th>\n",
       "      <th>mean</th>\n",
       "      <th>median</th>\n",
       "      <th>std</th>\n",
       "      <th>skew</th>\n",
       "      <th>kurtosis</th>\n",
       "    </tr>\n",
       "  </thead>\n",
       "  <tbody>\n",
       "    <tr>\n",
       "      <th>0</th>\n",
       "      <td>id</td>\n",
       "      <td>0.00</td>\n",
       "      <td>381108.00</td>\n",
       "      <td>381108.00</td>\n",
       "      <td>190554.00</td>\n",
       "      <td>190554.00</td>\n",
       "      <td>110016.69</td>\n",
       "      <td>0.00</td>\n",
       "      <td>-1.20</td>\n",
       "    </tr>\n",
       "    <tr>\n",
       "      <th>1</th>\n",
       "      <td>age</td>\n",
       "      <td>20.00</td>\n",
       "      <td>85.00</td>\n",
       "      <td>65.00</td>\n",
       "      <td>38.82</td>\n",
       "      <td>36.00</td>\n",
       "      <td>15.51</td>\n",
       "      <td>0.67</td>\n",
       "      <td>-0.57</td>\n",
       "    </tr>\n",
       "    <tr>\n",
       "      <th>2</th>\n",
       "      <td>region_code</td>\n",
       "      <td>0.00</td>\n",
       "      <td>52.00</td>\n",
       "      <td>52.00</td>\n",
       "      <td>26.39</td>\n",
       "      <td>28.00</td>\n",
       "      <td>13.23</td>\n",
       "      <td>-0.12</td>\n",
       "      <td>-0.87</td>\n",
       "    </tr>\n",
       "    <tr>\n",
       "      <th>3</th>\n",
       "      <td>policy_sales_channel</td>\n",
       "      <td>1.00</td>\n",
       "      <td>163.00</td>\n",
       "      <td>162.00</td>\n",
       "      <td>112.03</td>\n",
       "      <td>133.00</td>\n",
       "      <td>54.20</td>\n",
       "      <td>-0.90</td>\n",
       "      <td>-0.97</td>\n",
       "    </tr>\n",
       "    <tr>\n",
       "      <th>4</th>\n",
       "      <td>driving_license</td>\n",
       "      <td>0.00</td>\n",
       "      <td>1.00</td>\n",
       "      <td>1.00</td>\n",
       "      <td>1.00</td>\n",
       "      <td>1.00</td>\n",
       "      <td>0.05</td>\n",
       "      <td>-21.60</td>\n",
       "      <td>464.35</td>\n",
       "    </tr>\n",
       "    <tr>\n",
       "      <th>5</th>\n",
       "      <td>previously_insured</td>\n",
       "      <td>0.00</td>\n",
       "      <td>1.00</td>\n",
       "      <td>1.00</td>\n",
       "      <td>0.46</td>\n",
       "      <td>0.00</td>\n",
       "      <td>0.50</td>\n",
       "      <td>0.17</td>\n",
       "      <td>-1.97</td>\n",
       "    </tr>\n",
       "    <tr>\n",
       "      <th>6</th>\n",
       "      <td>annual_premium</td>\n",
       "      <td>2630.00</td>\n",
       "      <td>540165.00</td>\n",
       "      <td>537535.00</td>\n",
       "      <td>30564.39</td>\n",
       "      <td>31669.00</td>\n",
       "      <td>17213.13</td>\n",
       "      <td>1.77</td>\n",
       "      <td>34.00</td>\n",
       "    </tr>\n",
       "    <tr>\n",
       "      <th>7</th>\n",
       "      <td>vintage</td>\n",
       "      <td>10.00</td>\n",
       "      <td>299.00</td>\n",
       "      <td>289.00</td>\n",
       "      <td>154.35</td>\n",
       "      <td>154.00</td>\n",
       "      <td>83.67</td>\n",
       "      <td>0.00</td>\n",
       "      <td>-1.20</td>\n",
       "    </tr>\n",
       "    <tr>\n",
       "      <th>8</th>\n",
       "      <td>response</td>\n",
       "      <td>0.00</td>\n",
       "      <td>1.00</td>\n",
       "      <td>1.00</td>\n",
       "      <td>0.12</td>\n",
       "      <td>0.00</td>\n",
       "      <td>0.33</td>\n",
       "      <td>2.30</td>\n",
       "      <td>3.30</td>\n",
       "    </tr>\n",
       "  </tbody>\n",
       "</table>\n",
       "</div>"
      ],
      "text/plain": [
       "             attributes     min       max     range      mean    median       std   skew  kurtosis\n",
       "0                    id    0.00 381108.00 381108.00 190554.00 190554.00 110016.69   0.00     -1.20\n",
       "1                   age   20.00     85.00     65.00     38.82     36.00     15.51   0.67     -0.57\n",
       "2           region_code    0.00     52.00     52.00     26.39     28.00     13.23  -0.12     -0.87\n",
       "3  policy_sales_channel    1.00    163.00    162.00    112.03    133.00     54.20  -0.90     -0.97\n",
       "4       driving_license    0.00      1.00      1.00      1.00      1.00      0.05 -21.60    464.35\n",
       "5    previously_insured    0.00      1.00      1.00      0.46      0.00      0.50   0.17     -1.97\n",
       "6        annual_premium 2630.00 540165.00 537535.00  30564.39  31669.00  17213.13   1.77     34.00\n",
       "7               vintage   10.00    299.00    289.00    154.35    154.00     83.67   0.00     -1.20\n",
       "8              response    0.00      1.00      1.00      0.12      0.00      0.33   2.30      3.30"
      ]
     },
     "execution_count": 17,
     "metadata": {},
     "output_type": "execute_result"
    }
   ],
   "source": [
    "# Central Tendency - mean, meadina \n",
    "ct1 = pd.DataFrame( num_attributes.apply( np.mean ) ).T\n",
    "ct2 = pd.DataFrame( num_attributes.apply( np.median ) ).T\n",
    "\n",
    "# dispersion - std, min, max, range, skew, kurtosis\n",
    "d1 = pd.DataFrame( num_attributes.apply( np.std ) ).T \n",
    "d2 = pd.DataFrame( num_attributes.apply( min ) ).T \n",
    "d3 = pd.DataFrame( num_attributes.apply( max ) ).T \n",
    "d4 = pd.DataFrame( num_attributes.apply( lambda x: x.max() - x.min() ) ).T \n",
    "d5 = pd.DataFrame( num_attributes.apply( lambda x: x.skew() ) ).T \n",
    "d6 = pd.DataFrame( num_attributes.apply( lambda x: x.kurtosis() ) ).T \n",
    "\n",
    "# concatenar\n",
    "m = pd.concat( [d2, d3, d4, ct1, ct2, d1, d5, d6] ).T.reset_index()\n",
    "m.columns = ['attributes', 'min', 'max', 'range', 'mean', 'median', 'std', 'skew', 'kurtosis']\n",
    "m"
   ]
  },
  {
   "cell_type": "code",
   "execution_count": 19,
   "id": "2a4f2683",
   "metadata": {
    "ExecuteTime": {
     "end_time": "2022-07-19T02:11:20.763675Z",
     "start_time": "2022-07-19T02:11:20.370503Z"
    }
   },
   "outputs": [
    {
     "data": {
      "text/plain": [
       "<AxesSubplot:xlabel='annual_premium'>"
      ]
     },
     "execution_count": 19,
     "metadata": {},
     "output_type": "execute_result"
    },
    {
     "data": {
      "image/png": "[encoded data removed]",
      "text/plain": [
       "<Figure size 1800x864 with 1 Axes>"
      ]
     },
     "metadata": {},
     "output_type": "display_data"
    }
   ],
   "source": [
    "sb.distplot( df1['annual_premium'], kde=False )"
   ]
  },
  {
   "cell_type": "markdown",
   "id": "a0af844f",
   "metadata": {},
   "source": [
    "## Categorical Atributes"
   ]
  },
  {
   "cell_type": "code",
   "execution_count": null,
   "id": "736b6de7",
   "metadata": {},
   "outputs": [],
   "source": []
  },
  {
   "cell_type": "markdown",
   "id": "4064a732",
   "metadata": {
    "ExecuteTime": {
     "end_time": "2022-07-19T02:12:20.606473Z",
     "start_time": "2022-07-19T02:12:20.591458Z"
    }
   },
   "source": [
    "## Identify and work with Outliers"
   ]
  },
  {
   "cell_type": "code",
   "execution_count": 21,
   "id": "0273481f",
   "metadata": {
    "ExecuteTime": {
     "end_time": "2022-07-19T02:12:56.547349Z",
     "start_time": "2022-07-19T02:12:56.493383Z"
    }
   },
   "outputs": [],
   "source": [
    "num_attributes = df1.select_dtypes(include=['int64', 'float64'])\n",
    "maxim = pd.DataFrame(num_attributes.apply(np.max))\n",
    "minim = pd.DataFrame(num_attributes.apply(np.min))\n",
    "df_outlier = pd.concat([maxim, minim], axis=1).reset_index()\n",
    "df_outlier.columns = ['ATTRIBUTES', 'MAX', 'MIN']\n",
    "#print(df1)"
   ]
  },
  {
   "cell_type": "code",
   "execution_count": 25,
   "id": "32ff4977",
   "metadata": {
    "ExecuteTime": {
     "end_time": "2022-07-19T02:14:06.765295Z",
     "start_time": "2022-07-19T02:14:06.757296Z"
    }
   },
   "outputs": [
    {
     "name": "stdout",
     "output_type": "stream",
     "text": [
      "             ATTRIBUTES       MAX     MIN\n",
      "0                    id 381108.00    0.00\n",
      "1                   age     85.00   20.00\n",
      "2           region_code     52.00    0.00\n",
      "3  policy_sales_channel    163.00    1.00\n",
      "4       driving_license      1.00    0.00\n",
      "5    previously_insured      1.00    0.00\n",
      "6        annual_premium 540165.00 2630.00\n",
      "7               vintage    299.00   10.00\n",
      "8              response      1.00    0.00\n"
     ]
    }
   ],
   "source": [
    "print(df_outlier)"
   ]
  },
  {
   "cell_type": "code",
   "execution_count": 26,
   "id": "443461e0",
   "metadata": {
    "ExecuteTime": {
     "end_time": "2022-07-19T02:14:13.890292Z",
     "start_time": "2022-07-19T02:14:13.869283Z"
    }
   },
   "outputs": [
    {
     "data": {
      "text/html": [
       "<div>\n",
       "<style scoped>\n",
       "    .dataframe tbody tr th:only-of-type {\n",
       "        vertical-align: middle;\n",
       "    }\n",
       "\n",
       "    .dataframe tbody tr th {\n",
       "        vertical-align: top;\n",
       "    }\n",
       "\n",
       "    .dataframe thead th {\n",
       "        text-align: right;\n",
       "    }\n",
       "</style>\n",
       "<table border=\"1\" class=\"dataframe\">\n",
       "  <thead>\n",
       "    <tr style=\"text-align: right;\">\n",
       "      <th></th>\n",
       "      <th>ATTRIBUTES</th>\n",
       "      <th>MAX</th>\n",
       "      <th>MIN</th>\n",
       "    </tr>\n",
       "  </thead>\n",
       "  <tbody>\n",
       "    <tr>\n",
       "      <th>0</th>\n",
       "      <td>id</td>\n",
       "      <td>381108.00</td>\n",
       "      <td>0.00</td>\n",
       "    </tr>\n",
       "    <tr>\n",
       "      <th>1</th>\n",
       "      <td>age</td>\n",
       "      <td>85.00</td>\n",
       "      <td>20.00</td>\n",
       "    </tr>\n",
       "    <tr>\n",
       "      <th>2</th>\n",
       "      <td>region_code</td>\n",
       "      <td>52.00</td>\n",
       "      <td>0.00</td>\n",
       "    </tr>\n",
       "    <tr>\n",
       "      <th>3</th>\n",
       "      <td>policy_sales_channel</td>\n",
       "      <td>163.00</td>\n",
       "      <td>1.00</td>\n",
       "    </tr>\n",
       "    <tr>\n",
       "      <th>4</th>\n",
       "      <td>driving_license</td>\n",
       "      <td>1.00</td>\n",
       "      <td>0.00</td>\n",
       "    </tr>\n",
       "    <tr>\n",
       "      <th>5</th>\n",
       "      <td>previously_insured</td>\n",
       "      <td>1.00</td>\n",
       "      <td>0.00</td>\n",
       "    </tr>\n",
       "    <tr>\n",
       "      <th>6</th>\n",
       "      <td>annual_premium</td>\n",
       "      <td>540165.00</td>\n",
       "      <td>2630.00</td>\n",
       "    </tr>\n",
       "    <tr>\n",
       "      <th>7</th>\n",
       "      <td>vintage</td>\n",
       "      <td>299.00</td>\n",
       "      <td>10.00</td>\n",
       "    </tr>\n",
       "    <tr>\n",
       "      <th>8</th>\n",
       "      <td>response</td>\n",
       "      <td>1.00</td>\n",
       "      <td>0.00</td>\n",
       "    </tr>\n",
       "  </tbody>\n",
       "</table>\n",
       "</div>"
      ],
      "text/plain": [
       "             ATTRIBUTES       MAX     MIN\n",
       "0                    id 381108.00    0.00\n",
       "1                   age     85.00   20.00\n",
       "2           region_code     52.00    0.00\n",
       "3  policy_sales_channel    163.00    1.00\n",
       "4       driving_license      1.00    0.00\n",
       "5    previously_insured      1.00    0.00\n",
       "6        annual_premium 540165.00 2630.00\n",
       "7               vintage    299.00   10.00\n",
       "8              response      1.00    0.00"
      ]
     },
     "execution_count": 26,
     "metadata": {},
     "output_type": "execute_result"
    }
   ],
   "source": [
    "df_outlier"
   ]
  },
  {
   "cell_type": "code",
   "execution_count": null,
   "id": "fa46e594",
   "metadata": {},
   "outputs": [],
   "source": []
  }
 ],
 "metadata": {
  "kernelspec": {
   "display_name": "Python 3 (ipykernel)",
   "language": "python",
   "name": "python3"
  },
  "language_info": {
   "codemirror_mode": {
    "name": "ipython",
    "version": 3
   },
   "file_extension": ".py",
   "mimetype": "text/x-python",
   "name": "python",
   "nbconvert_exporter": "python",
   "pygments_lexer": "ipython3",
   "version": "3.9.7"
  },
  "toc": {
   "base_numbering": 1,
   "nav_menu": {},
   "number_sections": true,
   "sideBar": true,
   "skip_h1_title": false,
   "title_cell": "Table of Contents",
   "title_sidebar": "Contents",
   "toc_cell": false,
   "toc_position": {},
   "toc_section_display": true,
   "toc_window_display": false
  }
 },
 "nbformat": 4,
 "nbformat_minor": 5
}
